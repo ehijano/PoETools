{
 "cells": [
  {
   "cell_type": "code",
   "execution_count": 2,
   "metadata": {},
   "outputs": [],
   "source": [
    "import time\n",
    "from pynput import keyboard\n",
    "import sys\n",
    "\n",
    "class KeyHandler:\n",
    "    def __init__(self):\n",
    "        self.keyboard = keyboard.Controller()\n",
    "        self.running = False\n",
    "        self.stop = False\n",
    "\n",
    "    def start_stop(self, key):\n",
    "        if key == keyboard.Key.space:  # Using space\n",
    "            self.running = not self.running\n",
    "        elif key == keyboard.Key.down:\n",
    "            self.stop = True\n",
    "\n",
    "    def press_2(self):\n",
    "        while True:\n",
    "            time.sleep(4.4)\n",
    "            if self.running:\n",
    "                self.keyboard.press('2')\n",
    "                time.sleep(0.1)\n",
    "                self.keyboard.release('2')\n",
    "            \n",
    "            if self.stop:\n",
    "                break\n",
    "\n",
    "handler = KeyHandler()\n",
    "listener = keyboard.Listener(\n",
    "    on_press=handler.start_stop)\n",
    "listener.start()\n",
    "\n",
    "handler.press_2()"
   ]
  },
  {
   "cell_type": "code",
   "execution_count": null,
   "metadata": {},
   "outputs": [],
   "source": []
  }
 ],
 "metadata": {
  "kernelspec": {
   "display_name": "Python 3",
   "language": "python",
   "name": "python3"
  },
  "language_info": {
   "codemirror_mode": {
    "name": "ipython",
    "version": 3
   },
   "file_extension": ".py",
   "mimetype": "text/x-python",
   "name": "python",
   "nbconvert_exporter": "python",
   "pygments_lexer": "ipython3",
   "version": "3.8.3"
  },
  "orig_nbformat": 4
 },
 "nbformat": 4,
 "nbformat_minor": 2
}
