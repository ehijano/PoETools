{
 "cells": [
  {
   "cell_type": "code",
   "execution_count": 14,
   "metadata": {},
   "outputs": [
    {
     "name": "stdout",
     "output_type": "stream",
     "text": [
      "Code.exe\n",
      "Code.exe\n",
      "PathOfExile.exe\n",
      "PathOfExile.exe\n",
      "SearchHost.exe\n",
      "SearchHost.exe\n",
      "chrome.exe\n",
      "chrome.exe\n",
      "PathOfExile.exe\n",
      "Code.exe\n",
      "Code.exe\n"
     ]
    }
   ],
   "source": [
    "import time\n",
    "from pynput import keyboard\n",
    "import random\n",
    "import psutil\n",
    "import win32gui\n",
    "import win32process\n",
    "\n",
    "def get_active_window_process_name():\n",
    "    try:\n",
    "        pid = win32process.GetWindowThreadProcessId(win32gui.GetForegroundWindow())\n",
    "        return psutil.Process(pid[-1]).name()\n",
    "    except Exception:\n",
    "        pass\n",
    "\n",
    "class KeyHandler:\n",
    "    def __init__(self):\n",
    "        self.keyboard = keyboard.Controller()\n",
    "        self.running = False\n",
    "        self.stop = False\n",
    "\n",
    "    def start_stop(self, key):\n",
    "        if key == keyboard.Key.space:  # Using space\n",
    "            self.running = not self.running\n",
    "        elif key == keyboard.Key.down:\n",
    "            self.stop = True\n",
    "\n",
    "    def press_2(self, cooldown):\n",
    "        \"\"\"Noisy periodic flask press\"\"\"\n",
    "        while True:\n",
    "            time.sleep(cooldown + 0.1 * (random.random()))\n",
    "\n",
    "            app_name = get_active_window_process_name()\n",
    "\n",
    "            if self.running and app_name == 'PathOfExile.exe':\n",
    "                self.keyboard.press('2')\n",
    "                time.sleep(0.1 + 0.05 * random.random())\n",
    "                self.keyboard.release('2')\n",
    "            \n",
    "            if self.stop:\n",
    "                break\n",
    "\n",
    "handler = KeyHandler()\n",
    "listener = keyboard.Listener(\n",
    "    on_press=handler.start_stop)\n",
    "listener.start()\n",
    "\n",
    "handler.press_2(4.05)"
   ]
  },
  {
   "cell_type": "code",
   "execution_count": null,
   "metadata": {},
   "outputs": [],
   "source": [
    " 22"
   ]
  }
 ],
 "metadata": {
  "kernelspec": {
   "display_name": "Python 3",
   "language": "python",
   "name": "python3"
  },
  "language_info": {
   "codemirror_mode": {
    "name": "ipython",
    "version": 3
   },
   "file_extension": ".py",
   "mimetype": "text/x-python",
   "name": "python",
   "nbconvert_exporter": "python",
   "pygments_lexer": "ipython3",
   "version": "3.8.3"
  },
  "orig_nbformat": 4
 },
 "nbformat": 4,
 "nbformat_minor": 2
}
