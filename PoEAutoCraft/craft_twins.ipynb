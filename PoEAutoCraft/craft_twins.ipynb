{
 "cells": [
  {
   "cell_type": "code",
   "execution_count": 29,
   "metadata": {},
   "outputs": [
    {
     "name": "stdout",
     "output_type": "stream",
     "text": [
      "Point(x=1699, y=455)\n"
     ]
    }
   ],
   "source": [
    "\n",
    "import pyautogui\n",
    "\n",
    "\n",
    "item_location = 450, 600\n",
    "alt_location = 150, 350\n",
    "aug_location = 300, 450\n",
    "screen_size = pyautogui.size()\n",
    "\n",
    "\n",
    "\n",
    "print(pyautogui.position())"
   ]
  },
  {
   "cell_type": "code",
   "execution_count": 30,
   "metadata": {},
   "outputs": [],
   "source": [
    "pyautogui.moveTo(aug_location, duration=0.1)"
   ]
  },
  {
   "cell_type": "code",
   "execution_count": null,
   "metadata": {},
   "outputs": [],
   "source": []
  }
 ],
 "metadata": {
  "kernelspec": {
   "display_name": "Python 3",
   "language": "python",
   "name": "python3"
  },
  "language_info": {
   "codemirror_mode": {
    "name": "ipython",
    "version": 3
   },
   "file_extension": ".py",
   "mimetype": "text/x-python",
   "name": "python",
   "nbconvert_exporter": "python",
   "pygments_lexer": "ipython3",
   "version": "3.8.3"
  },
  "orig_nbformat": 4,
  "vscode": {
   "interpreter": {
    "hash": "13e6b9982079f166ebc748a5e5ae2c922d9d1b13e0b7d7c382af9332ec2395ae"
   }
  }
 },
 "nbformat": 4,
 "nbformat_minor": 2
}
